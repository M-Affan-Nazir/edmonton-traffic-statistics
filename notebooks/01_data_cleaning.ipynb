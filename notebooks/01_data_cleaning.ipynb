{
 "cells": [
  {
   "cell_type": "markdown",
   "id": "d595fde4-33b6-4c9d-bb3d-7335fee93931",
   "metadata": {},
   "source": [
    "# Load Data"
   ]
  },
  {
   "cell_type": "code",
   "execution_count": 25,
   "id": "d5b76669-e563-410f-a176-af0007d6efb9",
   "metadata": {},
   "outputs": [
    {
     "name": "stdout",
     "output_type": "stream",
     "text": [
      "c:\\MADE\\Software\\DS\\Edmonton Urban Structure\n",
      "c:\\MADE\\Software\\DS\\Edmonton Urban Structure\\notebooks\n"
     ]
    },
    {
     "name": "stderr",
     "output_type": "stream",
     "text": [
      "c:\\MADE\\Program Files\\Python\\lib\\site-packages\\IPython\\core\\magics\\osm.py:417: UserWarning: using dhist requires you to install the `pickleshare` library.\n",
      "  self.shell.db['dhist'] = compress_dhist(dhist)[-100:]\n"
     ]
    }
   ],
   "source": [
    "import pandas as pd\n",
    "\n",
    "%cd ..\n",
    "from src.data.clean_data import drop_columns, drop_all_null_rows, drop_null_rows, filter_dataframe\n",
    "%cd -"
   ]
  },
  {
   "cell_type": "code",
   "execution_count": 26,
   "id": "3aada7b3-b7de-4536-99a3-c2c21d664721",
   "metadata": {},
   "outputs": [],
   "source": [
    "annual_collision_report_raw = pd.read_csv(\"../data/raw/Annual_Collision_Report.csv\")\n",
    "average_annual_weekday_traffic_volume_raw = pd.read_csv(\"../data/raw/Average_Annual_Weekday_Traffic_Volumes.csv\")\n",
    "weather_data_hourly = pd.read_csv(\"../data/raw/Weather_Data_Hourly.csv\", low_memory=False)"
   ]
  },
  {
   "cell_type": "markdown",
   "id": "9537d681-4287-443a-8872-dcee45d5450b",
   "metadata": {},
   "source": [
    "# Processing"
   ]
  },
  {
   "cell_type": "code",
   "execution_count": 27,
   "id": "ba1ae8f3-40ed-49d3-81bf-701944567fac",
   "metadata": {},
   "outputs": [],
   "source": [
    "to_drop_collision = [ \"Population\", \"Private Passenger Vehicles\", \"Private Motorcycles\", \"Collisions per 1,000 Population\", \"Property Damage Only (PDO) Collisions\", \"Injuries+Fatalities per 1,000 Population\", \"Injuries per 1,000 Population\", \"Fatalities per 1,000 Population\", \"FATALITY: BICYCLIST\", \"FATALITY: MOTORCYCLIST\", \"FATALITY: PEDESTRIAN\", \"FATALITY: VEHICLE DRIVER\", \"FATALITY: VEHICLE PASSENGER\", \"SERIOUS INJURIES: BICYCLIST\", \"MINOR INJURIES: BICYCLIST\", \"SERIOUS INJURY: MOTORCYCLIST\", \"MINOR INJURIES: MOTORCYCLIST\", \"SERIOUS INJURIES: PEDESTRIAN\", \"MINOR INJURIES: PEDESTRIAN\", \"Total Serious Injuries\", \"Total Minor Injuries\", \"Total Serious + Minor Injuries\", \"Total Fatalities + Injuries\", \"FATALITIES: INTERSECTION PERCENT\", \"FATALITIES: MIDBLOCK PERCENT\", \"INJURIES: INTERSECTION PERCENT\", \"INJURIES: MIDBLOCK PERCENT\" ]\n",
    "to_drop_volume = traffic_volume_drop = [ \"Location\", \"Geometry Point\", \"Latitude\", \"Longitude\"]\n",
    "to_drop_weather = [ \"Row ID\", \"Station Province\", \"Location\", \"Station Elevation (m)\", \"Station Climate Identifier\", \"Station WMO Identifier\", \"Station TC Identifier\", \"Station Note\", \"Dewpoint Temperature (degrees C)\", \"Relative Humidity\", \"Wind Direction (10s degrees)\", \"Air Pressure (kPa)\", \"Humidex\", \"Wind Chill (degrees C)\", \"Station Latitude\", \"Station Longitude\"]\n",
    "\n",
    "\n",
    "collision_new = drop_columns(annual_collision_report_raw, to_drop_collision)\n",
    "traffic_new = drop_columns(average_annual_weekday_traffic_volume_raw, to_drop_volume)\n",
    "weather_new = drop_columns(weather_data_hourly, to_drop_weather)"
   ]
  },
  {
   "cell_type": "code",
   "execution_count": 28,
   "id": "4ed07674-9e5a-49e1-802b-413214bfb9f9",
   "metadata": {},
   "outputs": [
    {
     "name": "stdout",
     "output_type": "stream",
     "text": [
      "Traffic Volume Dataset NULL values: \n",
      "Site Number                 0\n",
      "Site Name                   0\n",
      "Year                        0\n",
      "Average Daily Volume    10298\n",
      "dtype: int64\n"
     ]
    },
    {
     "data": {
      "text/html": [
       "<div>\n",
       "<style scoped>\n",
       "    .dataframe tbody tr th:only-of-type {\n",
       "        vertical-align: middle;\n",
       "    }\n",
       "\n",
       "    .dataframe tbody tr th {\n",
       "        vertical-align: top;\n",
       "    }\n",
       "\n",
       "    .dataframe thead th {\n",
       "        text-align: right;\n",
       "    }\n",
       "</style>\n",
       "<table border=\"1\" class=\"dataframe\">\n",
       "  <thead>\n",
       "    <tr style=\"text-align: right;\">\n",
       "      <th></th>\n",
       "      <th>Site Number</th>\n",
       "      <th>Site Name</th>\n",
       "      <th>Year</th>\n",
       "      <th>Average Daily Volume</th>\n",
       "    </tr>\n",
       "  </thead>\n",
       "  <tbody>\n",
       "    <tr>\n",
       "      <th>0</th>\n",
       "      <td>NaN</td>\n",
       "      <td>NaN</td>\n",
       "      <td>NaN</td>\n",
       "      <td>NaN</td>\n",
       "    </tr>\n",
       "    <tr>\n",
       "      <th>1</th>\n",
       "      <td>NaN</td>\n",
       "      <td>NaN</td>\n",
       "      <td>NaN</td>\n",
       "      <td>NaN</td>\n",
       "    </tr>\n",
       "    <tr>\n",
       "      <th>2</th>\n",
       "      <td>NaN</td>\n",
       "      <td>NaN</td>\n",
       "      <td>NaN</td>\n",
       "      <td>NaN</td>\n",
       "    </tr>\n",
       "    <tr>\n",
       "      <th>3</th>\n",
       "      <td>NaN</td>\n",
       "      <td>NaN</td>\n",
       "      <td>NaN</td>\n",
       "      <td>NaN</td>\n",
       "    </tr>\n",
       "    <tr>\n",
       "      <th>4</th>\n",
       "      <td>NaN</td>\n",
       "      <td>NaN</td>\n",
       "      <td>NaN</td>\n",
       "      <td>NaN</td>\n",
       "    </tr>\n",
       "    <tr>\n",
       "      <th>...</th>\n",
       "      <td>...</td>\n",
       "      <td>...</td>\n",
       "      <td>...</td>\n",
       "      <td>...</td>\n",
       "    </tr>\n",
       "    <tr>\n",
       "      <th>50935</th>\n",
       "      <td>NaN</td>\n",
       "      <td>NaN</td>\n",
       "      <td>NaN</td>\n",
       "      <td>NaN</td>\n",
       "    </tr>\n",
       "    <tr>\n",
       "      <th>50936</th>\n",
       "      <td>NaN</td>\n",
       "      <td>NaN</td>\n",
       "      <td>NaN</td>\n",
       "      <td>NaN</td>\n",
       "    </tr>\n",
       "    <tr>\n",
       "      <th>50937</th>\n",
       "      <td>NaN</td>\n",
       "      <td>NaN</td>\n",
       "      <td>NaN</td>\n",
       "      <td>NaN</td>\n",
       "    </tr>\n",
       "    <tr>\n",
       "      <th>50938</th>\n",
       "      <td>NaN</td>\n",
       "      <td>NaN</td>\n",
       "      <td>NaN</td>\n",
       "      <td>NaN</td>\n",
       "    </tr>\n",
       "    <tr>\n",
       "      <th>50939</th>\n",
       "      <td>NaN</td>\n",
       "      <td>NaN</td>\n",
       "      <td>NaN</td>\n",
       "      <td>NaN</td>\n",
       "    </tr>\n",
       "  </tbody>\n",
       "</table>\n",
       "<p>50940 rows × 4 columns</p>\n",
       "</div>"
      ],
      "text/plain": [
       "       Site Number Site Name  Year  Average Daily Volume\n",
       "0              NaN       NaN   NaN                   NaN\n",
       "1              NaN       NaN   NaN                   NaN\n",
       "2              NaN       NaN   NaN                   NaN\n",
       "3              NaN       NaN   NaN                   NaN\n",
       "4              NaN       NaN   NaN                   NaN\n",
       "...            ...       ...   ...                   ...\n",
       "50935          NaN       NaN   NaN                   NaN\n",
       "50936          NaN       NaN   NaN                   NaN\n",
       "50937          NaN       NaN   NaN                   NaN\n",
       "50938          NaN       NaN   NaN                   NaN\n",
       "50939          NaN       NaN   NaN                   NaN\n",
       "\n",
       "[50940 rows x 4 columns]"
      ]
     },
     "execution_count": 28,
     "metadata": {},
     "output_type": "execute_result"
    }
   ],
   "source": [
    "print(\"Traffic Volume Dataset NULL values: \\n\" + str(traffic_new.isnull().sum()))\n",
    "traffic_new[traffic_new.isnull()]"
   ]
  },
  {
   "cell_type": "code",
   "execution_count": 29,
   "id": "36194345-904c-4d0c-abec-682f1a9d16d8",
   "metadata": {},
   "outputs": [],
   "source": [
    "traffic_new = drop_all_null_rows(traffic_new)\n",
    "weather_new = drop_all_null_rows(weather_new)"
   ]
  },
  {
   "cell_type": "code",
   "execution_count": 30,
   "id": "ae7889ed-a1c2-4294-b31a-457fee1d7637",
   "metadata": {},
   "outputs": [],
   "source": [
    "traffic_new = drop_null_rows(traffic_new, ['Average Daily Volume'])\n",
    "weather_new = drop_null_rows(weather_new, [\"Temperature (degrees C)\", \"Wind Speed (km/h)\", \"Visibility (km)\"])"
   ]
  },
  {
   "cell_type": "code",
   "execution_count": 31,
   "id": "2e11824b-d97e-4144-bbee-f5facf80580c",
   "metadata": {},
   "outputs": [
    {
     "data": {
      "text/html": [
       "<div>\n",
       "<style scoped>\n",
       "    .dataframe tbody tr th:only-of-type {\n",
       "        vertical-align: middle;\n",
       "    }\n",
       "\n",
       "    .dataframe tbody tr th {\n",
       "        vertical-align: top;\n",
       "    }\n",
       "\n",
       "    .dataframe thead th {\n",
       "        text-align: right;\n",
       "    }\n",
       "</style>\n",
       "<table border=\"1\" class=\"dataframe\">\n",
       "  <thead>\n",
       "    <tr style=\"text-align: right;\">\n",
       "      <th></th>\n",
       "      <th>Station ID</th>\n",
       "      <th>Station Name</th>\n",
       "      <th>Date and Time</th>\n",
       "      <th>Temperature (degrees C)</th>\n",
       "      <th>Wind Speed (km/h)</th>\n",
       "      <th>Visibility (km)</th>\n",
       "    </tr>\n",
       "  </thead>\n",
       "  <tbody>\n",
       "    <tr>\n",
       "      <th>21</th>\n",
       "      <td>30907</td>\n",
       "      <td>EDMONTON NAMAO AWOS A</td>\n",
       "      <td>2018/05/20 09:00:00 PM</td>\n",
       "      <td>15.4</td>\n",
       "      <td>6.0</td>\n",
       "      <td>14.5</td>\n",
       "    </tr>\n",
       "    <tr>\n",
       "      <th>23</th>\n",
       "      <td>1870</td>\n",
       "      <td>EDMONTON STONY PLAIN</td>\n",
       "      <td>2018/05/20 04:00:00 AM</td>\n",
       "      <td>7.2</td>\n",
       "      <td>11.0</td>\n",
       "      <td>24.1</td>\n",
       "    </tr>\n",
       "    <tr>\n",
       "      <th>24</th>\n",
       "      <td>30907</td>\n",
       "      <td>EDMONTON NAMAO AWOS A</td>\n",
       "      <td>2018/05/20 08:00:00 AM</td>\n",
       "      <td>14.1</td>\n",
       "      <td>28.0</td>\n",
       "      <td>14.5</td>\n",
       "    </tr>\n",
       "    <tr>\n",
       "      <th>27</th>\n",
       "      <td>51758</td>\n",
       "      <td>EDMONTON VILLENEUVE A</td>\n",
       "      <td>2018/05/20 05:00:00 PM</td>\n",
       "      <td>23.2</td>\n",
       "      <td>15.0</td>\n",
       "      <td>16.1</td>\n",
       "    </tr>\n",
       "    <tr>\n",
       "      <th>28</th>\n",
       "      <td>1870</td>\n",
       "      <td>EDMONTON STONY PLAIN</td>\n",
       "      <td>2018/05/20 05:00:00 PM</td>\n",
       "      <td>23.0</td>\n",
       "      <td>13.0</td>\n",
       "      <td>24.1</td>\n",
       "    </tr>\n",
       "    <tr>\n",
       "      <th>...</th>\n",
       "      <td>...</td>\n",
       "      <td>...</td>\n",
       "      <td>...</td>\n",
       "      <td>...</td>\n",
       "      <td>...</td>\n",
       "      <td>...</td>\n",
       "    </tr>\n",
       "    <tr>\n",
       "      <th>1948159</th>\n",
       "      <td>51758</td>\n",
       "      <td>EDMONTON VILLENEUVE A</td>\n",
       "      <td>2025/05/12 08:00:00 PM</td>\n",
       "      <td>9.8</td>\n",
       "      <td>11.0</td>\n",
       "      <td>16.1</td>\n",
       "    </tr>\n",
       "    <tr>\n",
       "      <th>1948160</th>\n",
       "      <td>51758</td>\n",
       "      <td>EDMONTON VILLENEUVE A</td>\n",
       "      <td>2025/05/12 02:00:00 PM</td>\n",
       "      <td>13.8</td>\n",
       "      <td>21.0</td>\n",
       "      <td>16.1</td>\n",
       "    </tr>\n",
       "    <tr>\n",
       "      <th>1948162</th>\n",
       "      <td>50149</td>\n",
       "      <td>EDMONTON INTL A</td>\n",
       "      <td>2025/05/12 03:00:00 PM</td>\n",
       "      <td>12.4</td>\n",
       "      <td>9.0</td>\n",
       "      <td>16.1</td>\n",
       "    </tr>\n",
       "    <tr>\n",
       "      <th>1948163</th>\n",
       "      <td>1868</td>\n",
       "      <td>EDMONTON NAMAO A</td>\n",
       "      <td>2025/05/12 08:00:00 AM</td>\n",
       "      <td>10.5</td>\n",
       "      <td>11.0</td>\n",
       "      <td>24.1</td>\n",
       "    </tr>\n",
       "    <tr>\n",
       "      <th>1948165</th>\n",
       "      <td>50149</td>\n",
       "      <td>EDMONTON INTL A</td>\n",
       "      <td>2025/05/12 04:00:00 AM</td>\n",
       "      <td>9.6</td>\n",
       "      <td>14.0</td>\n",
       "      <td>32.2</td>\n",
       "    </tr>\n",
       "  </tbody>\n",
       "</table>\n",
       "<p>462806 rows × 6 columns</p>\n",
       "</div>"
      ],
      "text/plain": [
       "         Station ID           Station Name           Date and Time  \\\n",
       "21            30907  EDMONTON NAMAO AWOS A  2018/05/20 09:00:00 PM   \n",
       "23             1870   EDMONTON STONY PLAIN  2018/05/20 04:00:00 AM   \n",
       "24            30907  EDMONTON NAMAO AWOS A  2018/05/20 08:00:00 AM   \n",
       "27            51758  EDMONTON VILLENEUVE A  2018/05/20 05:00:00 PM   \n",
       "28             1870   EDMONTON STONY PLAIN  2018/05/20 05:00:00 PM   \n",
       "...             ...                    ...                     ...   \n",
       "1948159       51758  EDMONTON VILLENEUVE A  2025/05/12 08:00:00 PM   \n",
       "1948160       51758  EDMONTON VILLENEUVE A  2025/05/12 02:00:00 PM   \n",
       "1948162       50149        EDMONTON INTL A  2025/05/12 03:00:00 PM   \n",
       "1948163        1868       EDMONTON NAMAO A  2025/05/12 08:00:00 AM   \n",
       "1948165       50149        EDMONTON INTL A  2025/05/12 04:00:00 AM   \n",
       "\n",
       "         Temperature (degrees C)  Wind Speed (km/h)  Visibility (km)  \n",
       "21                          15.4                6.0             14.5  \n",
       "23                           7.2               11.0             24.1  \n",
       "24                          14.1               28.0             14.5  \n",
       "27                          23.2               15.0             16.1  \n",
       "28                          23.0               13.0             24.1  \n",
       "...                          ...                ...              ...  \n",
       "1948159                      9.8               11.0             16.1  \n",
       "1948160                     13.8               21.0             16.1  \n",
       "1948162                     12.4                9.0             16.1  \n",
       "1948163                     10.5               11.0             24.1  \n",
       "1948165                      9.6               14.0             32.2  \n",
       "\n",
       "[462806 rows x 6 columns]"
      ]
     },
     "execution_count": 31,
     "metadata": {},
     "output_type": "execute_result"
    }
   ],
   "source": [
    "edmonton_weather_data = filter_dataframe(weather_new, \"Station Name\", \"edmonton\")\n",
    "edmonton_weather_data"
   ]
  },
  {
   "cell_type": "markdown",
   "id": "ddcf05c9",
   "metadata": {},
   "source": [
    "# Droping Meta Columns"
   ]
  },
  {
   "cell_type": "code",
   "execution_count": 32,
   "id": "f7cbf1dc",
   "metadata": {},
   "outputs": [],
   "source": [
    "edmonton_weather_data = drop_columns(edmonton_weather_data, [\"Station Name\"])"
   ]
  },
  {
   "cell_type": "markdown",
   "id": "2361fb17-1f7d-46af-b93c-06e385aa1ddb",
   "metadata": {},
   "source": [
    "# Save To CSV:"
   ]
  },
  {
   "cell_type": "code",
   "execution_count": 33,
   "id": "2b5d40ec-9d09-4d82-ab7a-d53864c76261",
   "metadata": {},
   "outputs": [],
   "source": [
    "collision_new.to_csv(\"../data/processed/traffic_collisions.csv\")\n",
    "traffic_new.to_csv(\"../data/processed/traffic_volume.csv\")\n",
    "edmonton_weather_data.to_csv(\"../data/processed/edmonton_weather.csv\")"
   ]
  }
 ],
 "metadata": {
  "kernelspec": {
   "display_name": "Python 3",
   "language": "python",
   "name": "python3"
  },
  "language_info": {
   "codemirror_mode": {
    "name": "ipython",
    "version": 3
   },
   "file_extension": ".py",
   "mimetype": "text/x-python",
   "name": "python",
   "nbconvert_exporter": "python",
   "pygments_lexer": "ipython3",
   "version": "3.9.6"
  }
 },
 "nbformat": 4,
 "nbformat_minor": 5
}
