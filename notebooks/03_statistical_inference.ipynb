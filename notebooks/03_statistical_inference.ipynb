{
 "cells": [
  {
   "cell_type": "code",
   "execution_count": 107,
   "id": "36be7fa8",
   "metadata": {},
   "outputs": [],
   "source": [
    "import pandas as pd\n",
    "from scipy.stats import shapiro, levene, kruskal, wilcoxon\n",
    "import scipy.stats as stats\n",
    "from statsmodels.stats.multicomp import pairwise_tukeyhsd\n",
    "import pandas as pd\n",
    "import numpy as np\n",
    "from scipy import stats\n",
    "import numpy as np"
   ]
  },
  {
   "cell_type": "markdown",
   "id": "3ad96014",
   "metadata": {},
   "source": [
    "# Data"
   ]
  },
  {
   "cell_type": "code",
   "execution_count": 108,
   "id": "68a36823",
   "metadata": {},
   "outputs": [
    {
     "data": {
      "text/html": [
       "<div>\n",
       "<style scoped>\n",
       "    .dataframe tbody tr th:only-of-type {\n",
       "        vertical-align: middle;\n",
       "    }\n",
       "\n",
       "    .dataframe tbody tr th {\n",
       "        vertical-align: top;\n",
       "    }\n",
       "\n",
       "    .dataframe thead th {\n",
       "        text-align: right;\n",
       "    }\n",
       "</style>\n",
       "<table border=\"1\" class=\"dataframe\">\n",
       "  <thead>\n",
       "    <tr style=\"text-align: right;\">\n",
       "      <th></th>\n",
       "      <th>Year</th>\n",
       "      <th>Average temperature (degrees C)</th>\n",
       "      <th>Average wind Speed (km/h)</th>\n",
       "      <th>Average visibility (km)</th>\n",
       "      <th>Yearly Average of Daily Volume</th>\n",
       "      <th>BICYCLE COLLISIONS</th>\n",
       "      <th>MOTORCYCLE COLLISIONS</th>\n",
       "      <th>PEDESTRIAN COLLISIONS</th>\n",
       "      <th>Total Collisions</th>\n",
       "      <th>Total Fatalities</th>\n",
       "      <th>FATALITIES: INTERSECTION</th>\n",
       "      <th>FATALITIES: MIDBLOCK</th>\n",
       "      <th>INJURIES: INTERSECTION</th>\n",
       "      <th>INJURIES: MIDBLOCK</th>\n",
       "      <th>FATAL COLLISIONS</th>\n",
       "      <th>SERIOUS INJURY COLLISIONS</th>\n",
       "      <th>MINOR INJURY COLLISIONS</th>\n",
       "      <th>TOTAL SERIOUS &amp; MINOR INJURY COLLISIONS</th>\n",
       "      <th>TOTAL FATAL &amp; INJURY COLLISIONS</th>\n",
       "      <th>RATIO FATALITIES + INJURIES</th>\n",
       "    </tr>\n",
       "  </thead>\n",
       "  <tbody>\n",
       "    <tr>\n",
       "      <th>0</th>\n",
       "      <td>2010</td>\n",
       "      <td>3.352347</td>\n",
       "      <td>11.053013</td>\n",
       "      <td>15.908633</td>\n",
       "      <td>NaN</td>\n",
       "      <td>182</td>\n",
       "      <td>211</td>\n",
       "      <td>306</td>\n",
       "      <td>28480</td>\n",
       "      <td>27</td>\n",
       "      <td>13</td>\n",
       "      <td>14</td>\n",
       "      <td>3314</td>\n",
       "      <td>1307</td>\n",
       "      <td>24</td>\n",
       "      <td>423</td>\n",
       "      <td>3345</td>\n",
       "      <td>3768</td>\n",
       "      <td>3792</td>\n",
       "      <td>0.133146</td>\n",
       "    </tr>\n",
       "    <tr>\n",
       "      <th>1</th>\n",
       "      <td>2011</td>\n",
       "      <td>3.445416</td>\n",
       "      <td>13.142069</td>\n",
       "      <td>16.600753</td>\n",
       "      <td>12193.134872</td>\n",
       "      <td>190</td>\n",
       "      <td>199</td>\n",
       "      <td>316</td>\n",
       "      <td>23442</td>\n",
       "      <td>22</td>\n",
       "      <td>12</td>\n",
       "      <td>9</td>\n",
       "      <td>3010</td>\n",
       "      <td>1256</td>\n",
       "      <td>22</td>\n",
       "      <td>389</td>\n",
       "      <td>3093</td>\n",
       "      <td>3482</td>\n",
       "      <td>3504</td>\n",
       "      <td>0.149475</td>\n",
       "    </tr>\n",
       "    <tr>\n",
       "      <th>2</th>\n",
       "      <td>2012</td>\n",
       "      <td>4.414667</td>\n",
       "      <td>12.638326</td>\n",
       "      <td>16.167048</td>\n",
       "      <td>11896.012759</td>\n",
       "      <td>177</td>\n",
       "      <td>157</td>\n",
       "      <td>296</td>\n",
       "      <td>23243</td>\n",
       "      <td>27</td>\n",
       "      <td>5</td>\n",
       "      <td>22</td>\n",
       "      <td>3003</td>\n",
       "      <td>1200</td>\n",
       "      <td>26</td>\n",
       "      <td>426</td>\n",
       "      <td>2937</td>\n",
       "      <td>3363</td>\n",
       "      <td>3389</td>\n",
       "      <td>0.145807</td>\n",
       "    </tr>\n",
       "    <tr>\n",
       "      <th>3</th>\n",
       "      <td>2013</td>\n",
       "      <td>2.410434</td>\n",
       "      <td>12.647422</td>\n",
       "      <td>18.062787</td>\n",
       "      <td>11975.502906</td>\n",
       "      <td>177</td>\n",
       "      <td>172</td>\n",
       "      <td>298</td>\n",
       "      <td>24805</td>\n",
       "      <td>23</td>\n",
       "      <td>11</td>\n",
       "      <td>12</td>\n",
       "      <td>2825</td>\n",
       "      <td>1127</td>\n",
       "      <td>23</td>\n",
       "      <td>375</td>\n",
       "      <td>2848</td>\n",
       "      <td>3223</td>\n",
       "      <td>3246</td>\n",
       "      <td>0.130861</td>\n",
       "    </tr>\n",
       "    <tr>\n",
       "      <th>4</th>\n",
       "      <td>2014</td>\n",
       "      <td>2.810970</td>\n",
       "      <td>12.625795</td>\n",
       "      <td>18.412174</td>\n",
       "      <td>12330.219780</td>\n",
       "      <td>177</td>\n",
       "      <td>163</td>\n",
       "      <td>319</td>\n",
       "      <td>24627</td>\n",
       "      <td>23</td>\n",
       "      <td>10</td>\n",
       "      <td>13</td>\n",
       "      <td>2515</td>\n",
       "      <td>1028</td>\n",
       "      <td>22</td>\n",
       "      <td>345</td>\n",
       "      <td>2567</td>\n",
       "      <td>2912</td>\n",
       "      <td>2934</td>\n",
       "      <td>0.119138</td>\n",
       "    </tr>\n",
       "    <tr>\n",
       "      <th>5</th>\n",
       "      <td>2015</td>\n",
       "      <td>4.941236</td>\n",
       "      <td>12.332064</td>\n",
       "      <td>18.046739</td>\n",
       "      <td>13160.213272</td>\n",
       "      <td>178</td>\n",
       "      <td>208</td>\n",
       "      <td>316</td>\n",
       "      <td>25516</td>\n",
       "      <td>32</td>\n",
       "      <td>18</td>\n",
       "      <td>13</td>\n",
       "      <td>2727</td>\n",
       "      <td>948</td>\n",
       "      <td>30</td>\n",
       "      <td>329</td>\n",
       "      <td>2704</td>\n",
       "      <td>3033</td>\n",
       "      <td>3063</td>\n",
       "      <td>0.120042</td>\n",
       "    </tr>\n",
       "    <tr>\n",
       "      <th>6</th>\n",
       "      <td>2016</td>\n",
       "      <td>4.812860</td>\n",
       "      <td>12.175093</td>\n",
       "      <td>17.538099</td>\n",
       "      <td>12688.032454</td>\n",
       "      <td>171</td>\n",
       "      <td>191</td>\n",
       "      <td>292</td>\n",
       "      <td>23139</td>\n",
       "      <td>22</td>\n",
       "      <td>11</td>\n",
       "      <td>10</td>\n",
       "      <td>2368</td>\n",
       "      <td>778</td>\n",
       "      <td>21</td>\n",
       "      <td>281</td>\n",
       "      <td>2375</td>\n",
       "      <td>2656</td>\n",
       "      <td>2677</td>\n",
       "      <td>0.115692</td>\n",
       "    </tr>\n",
       "    <tr>\n",
       "      <th>7</th>\n",
       "      <td>2017</td>\n",
       "      <td>3.731350</td>\n",
       "      <td>12.627638</td>\n",
       "      <td>17.347945</td>\n",
       "      <td>11896.841582</td>\n",
       "      <td>143</td>\n",
       "      <td>154</td>\n",
       "      <td>270</td>\n",
       "      <td>23905</td>\n",
       "      <td>27</td>\n",
       "      <td>13</td>\n",
       "      <td>13</td>\n",
       "      <td>2393</td>\n",
       "      <td>822</td>\n",
       "      <td>26</td>\n",
       "      <td>297</td>\n",
       "      <td>2413</td>\n",
       "      <td>2710</td>\n",
       "      <td>2736</td>\n",
       "      <td>0.114453</td>\n",
       "    </tr>\n",
       "    <tr>\n",
       "      <th>8</th>\n",
       "      <td>2018</td>\n",
       "      <td>1.785195</td>\n",
       "      <td>12.315178</td>\n",
       "      <td>17.535189</td>\n",
       "      <td>11064.122497</td>\n",
       "      <td>130</td>\n",
       "      <td>143</td>\n",
       "      <td>250</td>\n",
       "      <td>24003</td>\n",
       "      <td>19</td>\n",
       "      <td>8</td>\n",
       "      <td>11</td>\n",
       "      <td>2302</td>\n",
       "      <td>848</td>\n",
       "      <td>19</td>\n",
       "      <td>287</td>\n",
       "      <td>2323</td>\n",
       "      <td>2610</td>\n",
       "      <td>2629</td>\n",
       "      <td>0.109528</td>\n",
       "    </tr>\n",
       "    <tr>\n",
       "      <th>9</th>\n",
       "      <td>2019</td>\n",
       "      <td>2.479827</td>\n",
       "      <td>12.075129</td>\n",
       "      <td>18.848681</td>\n",
       "      <td>11392.131920</td>\n",
       "      <td>130</td>\n",
       "      <td>104</td>\n",
       "      <td>221</td>\n",
       "      <td>21943</td>\n",
       "      <td>14</td>\n",
       "      <td>8</td>\n",
       "      <td>6</td>\n",
       "      <td>1813</td>\n",
       "      <td>613</td>\n",
       "      <td>14</td>\n",
       "      <td>244</td>\n",
       "      <td>1822</td>\n",
       "      <td>2066</td>\n",
       "      <td>2080</td>\n",
       "      <td>0.094791</td>\n",
       "    </tr>\n",
       "    <tr>\n",
       "      <th>10</th>\n",
       "      <td>2020</td>\n",
       "      <td>3.019966</td>\n",
       "      <td>13.090865</td>\n",
       "      <td>19.538691</td>\n",
       "      <td>9784.876325</td>\n",
       "      <td>115</td>\n",
       "      <td>119</td>\n",
       "      <td>125</td>\n",
       "      <td>15804</td>\n",
       "      <td>12</td>\n",
       "      <td>2</td>\n",
       "      <td>10</td>\n",
       "      <td>1321</td>\n",
       "      <td>456</td>\n",
       "      <td>9</td>\n",
       "      <td>192</td>\n",
       "      <td>1327</td>\n",
       "      <td>1519</td>\n",
       "      <td>1528</td>\n",
       "      <td>0.096684</td>\n",
       "    </tr>\n",
       "    <tr>\n",
       "      <th>11</th>\n",
       "      <td>2021</td>\n",
       "      <td>3.660750</td>\n",
       "      <td>12.821596</td>\n",
       "      <td>19.390130</td>\n",
       "      <td>10519.458186</td>\n",
       "      <td>158</td>\n",
       "      <td>121</td>\n",
       "      <td>165</td>\n",
       "      <td>17363</td>\n",
       "      <td>16</td>\n",
       "      <td>6</td>\n",
       "      <td>9</td>\n",
       "      <td>1507</td>\n",
       "      <td>472</td>\n",
       "      <td>15</td>\n",
       "      <td>230</td>\n",
       "      <td>1444</td>\n",
       "      <td>1674</td>\n",
       "      <td>1689</td>\n",
       "      <td>0.097276</td>\n",
       "    </tr>\n",
       "    <tr>\n",
       "      <th>12</th>\n",
       "      <td>2022</td>\n",
       "      <td>3.530504</td>\n",
       "      <td>13.042609</td>\n",
       "      <td>21.748378</td>\n",
       "      <td>10990.600707</td>\n",
       "      <td>157</td>\n",
       "      <td>142</td>\n",
       "      <td>213</td>\n",
       "      <td>20162</td>\n",
       "      <td>14</td>\n",
       "      <td>6</td>\n",
       "      <td>8</td>\n",
       "      <td>3571</td>\n",
       "      <td>1026</td>\n",
       "      <td>13</td>\n",
       "      <td>301</td>\n",
       "      <td>3283</td>\n",
       "      <td>3584</td>\n",
       "      <td>3597</td>\n",
       "      <td>0.178405</td>\n",
       "    </tr>\n",
       "    <tr>\n",
       "      <th>13</th>\n",
       "      <td>2023</td>\n",
       "      <td>5.454860</td>\n",
       "      <td>12.526968</td>\n",
       "      <td>21.012844</td>\n",
       "      <td>NaN</td>\n",
       "      <td>181</td>\n",
       "      <td>150</td>\n",
       "      <td>260</td>\n",
       "      <td>20039</td>\n",
       "      <td>24</td>\n",
       "      <td>12</td>\n",
       "      <td>12</td>\n",
       "      <td>7741</td>\n",
       "      <td>3147</td>\n",
       "      <td>21</td>\n",
       "      <td>304</td>\n",
       "      <td>7581</td>\n",
       "      <td>7885</td>\n",
       "      <td>7906</td>\n",
       "      <td>0.394531</td>\n",
       "    </tr>\n",
       "  </tbody>\n",
       "</table>\n",
       "</div>"
      ],
      "text/plain": [
       "    Year  Average temperature (degrees C)  Average wind Speed (km/h)  \\\n",
       "0   2010                         3.352347                  11.053013   \n",
       "1   2011                         3.445416                  13.142069   \n",
       "2   2012                         4.414667                  12.638326   \n",
       "3   2013                         2.410434                  12.647422   \n",
       "4   2014                         2.810970                  12.625795   \n",
       "5   2015                         4.941236                  12.332064   \n",
       "6   2016                         4.812860                  12.175093   \n",
       "7   2017                         3.731350                  12.627638   \n",
       "8   2018                         1.785195                  12.315178   \n",
       "9   2019                         2.479827                  12.075129   \n",
       "10  2020                         3.019966                  13.090865   \n",
       "11  2021                         3.660750                  12.821596   \n",
       "12  2022                         3.530504                  13.042609   \n",
       "13  2023                         5.454860                  12.526968   \n",
       "\n",
       "    Average visibility (km)  Yearly Average of Daily Volume  \\\n",
       "0                 15.908633                             NaN   \n",
       "1                 16.600753                    12193.134872   \n",
       "2                 16.167048                    11896.012759   \n",
       "3                 18.062787                    11975.502906   \n",
       "4                 18.412174                    12330.219780   \n",
       "5                 18.046739                    13160.213272   \n",
       "6                 17.538099                    12688.032454   \n",
       "7                 17.347945                    11896.841582   \n",
       "8                 17.535189                    11064.122497   \n",
       "9                 18.848681                    11392.131920   \n",
       "10                19.538691                     9784.876325   \n",
       "11                19.390130                    10519.458186   \n",
       "12                21.748378                    10990.600707   \n",
       "13                21.012844                             NaN   \n",
       "\n",
       "    BICYCLE COLLISIONS  MOTORCYCLE COLLISIONS  PEDESTRIAN COLLISIONS  \\\n",
       "0                  182                    211                    306   \n",
       "1                  190                    199                    316   \n",
       "2                  177                    157                    296   \n",
       "3                  177                    172                    298   \n",
       "4                  177                    163                    319   \n",
       "5                  178                    208                    316   \n",
       "6                  171                    191                    292   \n",
       "7                  143                    154                    270   \n",
       "8                  130                    143                    250   \n",
       "9                  130                    104                    221   \n",
       "10                 115                    119                    125   \n",
       "11                 158                    121                    165   \n",
       "12                 157                    142                    213   \n",
       "13                 181                    150                    260   \n",
       "\n",
       "    Total Collisions  Total Fatalities  FATALITIES: INTERSECTION  \\\n",
       "0              28480                27                        13   \n",
       "1              23442                22                        12   \n",
       "2              23243                27                         5   \n",
       "3              24805                23                        11   \n",
       "4              24627                23                        10   \n",
       "5              25516                32                        18   \n",
       "6              23139                22                        11   \n",
       "7              23905                27                        13   \n",
       "8              24003                19                         8   \n",
       "9              21943                14                         8   \n",
       "10             15804                12                         2   \n",
       "11             17363                16                         6   \n",
       "12             20162                14                         6   \n",
       "13             20039                24                        12   \n",
       "\n",
       "    FATALITIES: MIDBLOCK  INJURIES: INTERSECTION  INJURIES: MIDBLOCK  \\\n",
       "0                     14                    3314                1307   \n",
       "1                      9                    3010                1256   \n",
       "2                     22                    3003                1200   \n",
       "3                     12                    2825                1127   \n",
       "4                     13                    2515                1028   \n",
       "5                     13                    2727                 948   \n",
       "6                     10                    2368                 778   \n",
       "7                     13                    2393                 822   \n",
       "8                     11                    2302                 848   \n",
       "9                      6                    1813                 613   \n",
       "10                    10                    1321                 456   \n",
       "11                     9                    1507                 472   \n",
       "12                     8                    3571                1026   \n",
       "13                    12                    7741                3147   \n",
       "\n",
       "    FATAL COLLISIONS  SERIOUS INJURY COLLISIONS  MINOR INJURY COLLISIONS  \\\n",
       "0                 24                        423                     3345   \n",
       "1                 22                        389                     3093   \n",
       "2                 26                        426                     2937   \n",
       "3                 23                        375                     2848   \n",
       "4                 22                        345                     2567   \n",
       "5                 30                        329                     2704   \n",
       "6                 21                        281                     2375   \n",
       "7                 26                        297                     2413   \n",
       "8                 19                        287                     2323   \n",
       "9                 14                        244                     1822   \n",
       "10                 9                        192                     1327   \n",
       "11                15                        230                     1444   \n",
       "12                13                        301                     3283   \n",
       "13                21                        304                     7581   \n",
       "\n",
       "    TOTAL SERIOUS & MINOR INJURY COLLISIONS  TOTAL FATAL & INJURY COLLISIONS  \\\n",
       "0                                      3768                             3792   \n",
       "1                                      3482                             3504   \n",
       "2                                      3363                             3389   \n",
       "3                                      3223                             3246   \n",
       "4                                      2912                             2934   \n",
       "5                                      3033                             3063   \n",
       "6                                      2656                             2677   \n",
       "7                                      2710                             2736   \n",
       "8                                      2610                             2629   \n",
       "9                                      2066                             2080   \n",
       "10                                     1519                             1528   \n",
       "11                                     1674                             1689   \n",
       "12                                     3584                             3597   \n",
       "13                                     7885                             7906   \n",
       "\n",
       "    RATIO FATALITIES + INJURIES  \n",
       "0                      0.133146  \n",
       "1                      0.149475  \n",
       "2                      0.145807  \n",
       "3                      0.130861  \n",
       "4                      0.119138  \n",
       "5                      0.120042  \n",
       "6                      0.115692  \n",
       "7                      0.114453  \n",
       "8                      0.109528  \n",
       "9                      0.094791  \n",
       "10                     0.096684  \n",
       "11                     0.097276  \n",
       "12                     0.178405  \n",
       "13                     0.394531  "
      ]
     },
     "execution_count": 108,
     "metadata": {},
     "output_type": "execute_result"
    }
   ],
   "source": [
    "data = pd.read_csv(\"../data/processed/merged_features.csv\").drop([\"Unnamed: 0\"], axis=1)\n",
    "data\n"
   ]
  },
  {
   "cell_type": "markdown",
   "id": "d9f54168",
   "metadata": {},
   "source": [
    "# Inference Testing I"
   ]
  },
  {
   "cell_type": "markdown",
   "id": "bd37c662",
   "metadata": {},
   "source": [
    "### Do mean-collision for bicycle, motorcycle and pedestrian groups differ?"
   ]
  },
  {
   "cell_type": "code",
   "execution_count": 109,
   "id": "7726f7ca",
   "metadata": {},
   "outputs": [
    {
     "name": "stdout",
     "output_type": "stream",
     "text": [
      "P-Value for Shapiro Wilk - BIKE: 0.05037878826260567\n",
      "P-Value for Shapiro Wilk - MOTO: 0.6725215911865234\n",
      "P-Value for Shapiro Wilk - PEDESTRIAN: 0.0410170815885067\n",
      "\n",
      "P-Value for LEVENE: 0.05070013301303011\n"
     ]
    }
   ],
   "source": [
    "# Testing Normality and Equal Variance using Shpiro-Wilk and Levenes Test\n",
    "_, p_sw_bike = shapiro(data[\"BICYCLE COLLISIONS\"])\n",
    "_, p_sw_moto = shapiro(data[\"MOTORCYCLE COLLISIONS\"])\n",
    "_, p_sw_ped  = shapiro(data[\"PEDESTRIAN COLLISIONS\"])\n",
    "\n",
    "_, p_levene = levene(data[\"BICYCLE COLLISIONS\"], data[\"MOTORCYCLE COLLISIONS\"], data[\"PEDESTRIAN COLLISIONS\"])\n",
    "\n",
    "print(\"P-Value for Shapiro Wilk - BIKE: \" + str(p_sw_bike))\n",
    "print(\"P-Value for Shapiro Wilk - MOTO: \" + str(p_sw_moto))\n",
    "print(\"P-Value for Shapiro Wilk - PEDESTRIAN: \" + str(p_sw_ped))\n",
    "\n",
    "print(\"\\nP-Value for LEVENE: \" + str(p_levene))\n"
   ]
  },
  {
   "cell_type": "markdown",
   "id": "f53159d0",
   "metadata": {},
   "source": [
    ">P-Value for Shapiro Wilk test is < 0.05, so we should use Kruskal Wallis Test"
   ]
  },
  {
   "cell_type": "code",
   "execution_count": 110,
   "id": "756ba327",
   "metadata": {},
   "outputs": [
    {
     "name": "stdout",
     "output_type": "stream",
     "text": [
      "Kruskal–Wallis H = 18.114, p = 0.00012\n"
     ]
    }
   ],
   "source": [
    "\n",
    "stat, p_value = kruskal(data[\"BICYCLE COLLISIONS\"], data[\"MOTORCYCLE COLLISIONS\"], data[\"PEDESTRIAN COLLISIONS\"])\n",
    "print(f\"Kruskal–Wallis H = {stat:.3f}, p = {p_value:.5f}\")"
   ]
  },
  {
   "cell_type": "markdown",
   "id": "3af27f96",
   "metadata": {},
   "source": [
    "> Conslusion: P-Value for Kruskal Wallis test is < 0.05, at least one group's mean differs significantly"
   ]
  },
  {
   "cell_type": "code",
   "execution_count": 111,
   "id": "3ab4e5e0",
   "metadata": {},
   "outputs": [
    {
     "data": {
      "text/html": [
       "<table class=\"simpletable\">\n",
       "<caption>Multiple Comparison of Means - Tukey HSD, FWER=0.05</caption>\n",
       "<tr>\n",
       "  <th>group1</th> <th>group2</th> <th>meandiff</th>  <th>p-adj</th>   <th>lower</th>    <th>upper</th>  <th>reject</th>\n",
       "</tr>\n",
       "<tr>\n",
       "   <td>bike</td>   <td>moto</td>   <td>-2.2857</td> <td>0.9886</td> <td>-40.9223</td>  <td>36.3508</td>  <td>False</td>\n",
       "</tr>\n",
       "<tr>\n",
       "   <td>bike</td>    <td>ped</td>   <td>98.6429</td>   <td>0.0</td>   <td>60.0063</td> <td>137.2794</td>  <td>True</td> \n",
       "</tr>\n",
       "<tr>\n",
       "   <td>moto</td>    <td>ped</td>  <td>100.9286</td>   <td>0.0</td>   <td>62.292</td>  <td>139.5651</td>  <td>True</td> \n",
       "</tr>\n",
       "</table>"
      ],
      "text/latex": [
       "\\begin{center}\n",
       "\\begin{tabular}{ccccccc}\n",
       "\\toprule\n",
       "\\textbf{group1} & \\textbf{group2} & \\textbf{meandiff} & \\textbf{p-adj} & \\textbf{lower} & \\textbf{upper} & \\textbf{reject}  \\\\\n",
       "\\midrule\n",
       "      bike      &       moto      &      -2.2857      &     0.9886     &    -40.9223    &    36.3508     &      False       \\\\\n",
       "      bike      &       ped       &      98.6429      &      0.0       &    60.0063     &    137.2794    &       True       \\\\\n",
       "      moto      &       ped       &      100.9286     &      0.0       &     62.292     &    139.5651    &       True       \\\\\n",
       "\\bottomrule\n",
       "\\end{tabular}\n",
       "%\\caption{Multiple Comparison of Means - Tukey HSD, FWER=0.05}\n",
       "\\end{center}"
      ],
      "text/plain": [
       "<class 'statsmodels.iolib.table.SimpleTable'>"
      ]
     },
     "execution_count": 111,
     "metadata": {},
     "output_type": "execute_result"
    }
   ],
   "source": [
    "# Tukeys HSD:\n",
    "\n",
    "values = np.concatenate([data[\"BICYCLE COLLISIONS\"], data[\"MOTORCYCLE COLLISIONS\"], data[\"PEDESTRIAN COLLISIONS\"]])\n",
    "groups = (['bike'] * len(data[\"BICYCLE COLLISIONS\"]) +\n",
    "          ['moto'] * len(data[\"MOTORCYCLE COLLISIONS\"]) +\n",
    "          ['ped']  * len(data[\"PEDESTRIAN COLLISIONS\"]))\n",
    "\n",
    "df = pd.DataFrame({'value': values, 'group': groups})\n",
    "\n",
    "tukey = pairwise_tukeyhsd(endog=df['value'], groups=df['group'], alpha=0.05)\n",
    "tukey.summary()"
   ]
  },
  {
   "cell_type": "markdown",
   "id": "4ee6c9eb",
   "metadata": {},
   "source": [
    "> Conclusion: The mean collision counts for bicycle and motorcycle groups do not differ significantly; only the pedestrian group’s mean is significantly higher."
   ]
  },
  {
   "cell_type": "markdown",
   "id": "24e1f7e5",
   "metadata": {},
   "source": [
    "### Do fatalities differ for collisions occuring mid-Block and at an intersection?"
   ]
  },
  {
   "cell_type": "code",
   "execution_count": 112,
   "id": "e7788300",
   "metadata": {},
   "outputs": [
    {
     "name": "stdout",
     "output_type": "stream",
     "text": [
      "P-Value for Shapiro Wilk Test: 0.014968442730605602\n"
     ]
    }
   ],
   "source": [
    "# Testing Normaliry using Shapiro-Wilk\n",
    "\n",
    "difference = data[\"FATALITIES: MIDBLOCK\"] - data[\"FATALITIES: INTERSECTION\"]\n",
    "_, p_value = shapiro(difference)\n",
    "\n",
    "print(\"P-Value for Shapiro Wilk Test: \" + str(p_value))"
   ]
  },
  {
   "cell_type": "markdown",
   "id": "81ef3b46",
   "metadata": {},
   "source": [
    "> P-Value is < 0.05. Not normal, so use Wilcoxin signed-rank"
   ]
  },
  {
   "cell_type": "code",
   "execution_count": 113,
   "id": "28d294ad",
   "metadata": {},
   "outputs": [
    {
     "name": "stdout",
     "output_type": "stream",
     "text": [
      "Wilcoxon W = 24.000, p = 0.23659\n"
     ]
    },
    {
     "name": "stderr",
     "output_type": "stream",
     "text": [
      "c:\\MADE\\Program Files\\Python\\lib\\site-packages\\scipy\\stats\\_morestats.py:4088: UserWarning: Exact p-value calculation does not work if there are zeros. Switching to normal approximation.\n",
      "  warnings.warn(\"Exact p-value calculation does not work if there are \"\n"
     ]
    }
   ],
   "source": [
    "stat, p_value = wilcoxon(difference)\n",
    "print(f\"Wilcoxon W = {stat:.3f}, p = {p_value:.5f}\")"
   ]
  },
  {
   "cell_type": "markdown",
   "id": "490ccc95",
   "metadata": {},
   "source": [
    "> Conslusion: P-Value for Wilcoxon is > 0.05, there is no significant difference in fatalities occuring midblock and at an intersection"
   ]
  },
  {
   "cell_type": "markdown",
   "id": "b4190082",
   "metadata": {},
   "source": [
    "### Do injuries differ for collisions occuring mid-Block and at an intersection?"
   ]
  },
  {
   "cell_type": "code",
   "execution_count": 114,
   "id": "55a47534",
   "metadata": {},
   "outputs": [
    {
     "name": "stdout",
     "output_type": "stream",
     "text": [
      "P-Value for Shapiro Wilk Test: 0.0007438326138071716\n"
     ]
    }
   ],
   "source": [
    "# Testing Normaliry using Shapiro-Wilk\n",
    "\n",
    "difference_intersection = data[\"INJURIES: MIDBLOCK\"] - data[\"INJURIES: INTERSECTION\"]\n",
    "_, p_value = shapiro(difference_intersection)\n",
    "\n",
    "print(\"P-Value for Shapiro Wilk Test: \" + str(p_value))"
   ]
  },
  {
   "cell_type": "markdown",
   "id": "364bc861",
   "metadata": {},
   "source": [
    "> P-Value is < 0.05. Not normal, so use Wilcoxin signed-rank"
   ]
  },
  {
   "cell_type": "code",
   "execution_count": 115,
   "id": "3f36b14a",
   "metadata": {},
   "outputs": [
    {
     "name": "stdout",
     "output_type": "stream",
     "text": [
      "Wilcoxon W = 0.000, p = 0.00012\n"
     ]
    }
   ],
   "source": [
    "stat, p_value = wilcoxon(difference_intersection)\n",
    "print(f\"Wilcoxon W = {stat:.3f}, p = {p_value:.5f}\")"
   ]
  },
  {
   "cell_type": "code",
   "execution_count": 116,
   "id": "77a1bb16",
   "metadata": {},
   "outputs": [
    {
     "name": "stdout",
     "output_type": "stream",
     "text": [
      "Mean Intersection Injuries: 2886.4\n",
      "Mean Midblock Injuries:    1073.4\n"
     ]
    }
   ],
   "source": [
    "mean_int  = data[\"INJURIES: INTERSECTION\"].mean()\n",
    "mean_mid  = data[\"INJURIES: MIDBLOCK\"].mean()\n",
    "\n",
    "print(f\"Mean Intersection Injuries: {mean_int:.1f}\")\n",
    "print(f\"Mean Midblock Injuries:    {mean_mid:.1f}\")"
   ]
  },
  {
   "cell_type": "markdown",
   "id": "c190ece0",
   "metadata": {},
   "source": [
    "> Conclusion: Since p < 0.05, injuries differ significantly between midblock and intersection collisions. On average, intersection collisions result in far more injuries (2886.4) than midblock collisions (1073.4)."
   ]
  },
  {
   "cell_type": "markdown",
   "id": "b7605b15",
   "metadata": {},
   "source": [
    "# Inference Testing II"
   ]
  },
  {
   "cell_type": "markdown",
   "id": "6399a0a7",
   "metadata": {},
   "source": [
    "### Do weather conditions significantly improve prediction of collision counts beyond traffic volume?"
   ]
  },
  {
   "cell_type": "markdown",
   "id": "63355ca0",
   "metadata": {},
   "source": [
    "* H_0 = Weather data adds not value beyond traffic volume -> β_precip = β_temp = β_vis = 0\n",
    "* H_α = Weather data adds value beyond trafficn volume"
   ]
  },
  {
   "cell_type": "code",
   "execution_count": 117,
   "id": "aea057f4",
   "metadata": {},
   "outputs": [
    {
     "data": {
      "text/html": [
       "<div>\n",
       "<style scoped>\n",
       "    .dataframe tbody tr th:only-of-type {\n",
       "        vertical-align: middle;\n",
       "    }\n",
       "\n",
       "    .dataframe tbody tr th {\n",
       "        vertical-align: top;\n",
       "    }\n",
       "\n",
       "    .dataframe thead th {\n",
       "        text-align: right;\n",
       "    }\n",
       "</style>\n",
       "<table border=\"1\" class=\"dataframe\">\n",
       "  <thead>\n",
       "    <tr style=\"text-align: right;\">\n",
       "      <th></th>\n",
       "      <th>Total Collisions</th>\n",
       "      <th>Yearly Average of Daily Volume</th>\n",
       "      <th>Average temperature (degrees C)</th>\n",
       "      <th>Average wind Speed (km/h)</th>\n",
       "      <th>Average visibility (km)</th>\n",
       "    </tr>\n",
       "  </thead>\n",
       "  <tbody>\n",
       "    <tr>\n",
       "      <th>1</th>\n",
       "      <td>23442</td>\n",
       "      <td>12193.134872</td>\n",
       "      <td>3.445416</td>\n",
       "      <td>13.142069</td>\n",
       "      <td>16.600753</td>\n",
       "    </tr>\n",
       "    <tr>\n",
       "      <th>2</th>\n",
       "      <td>23243</td>\n",
       "      <td>11896.012759</td>\n",
       "      <td>4.414667</td>\n",
       "      <td>12.638326</td>\n",
       "      <td>16.167048</td>\n",
       "    </tr>\n",
       "    <tr>\n",
       "      <th>3</th>\n",
       "      <td>24805</td>\n",
       "      <td>11975.502906</td>\n",
       "      <td>2.410434</td>\n",
       "      <td>12.647422</td>\n",
       "      <td>18.062787</td>\n",
       "    </tr>\n",
       "    <tr>\n",
       "      <th>4</th>\n",
       "      <td>24627</td>\n",
       "      <td>12330.219780</td>\n",
       "      <td>2.810970</td>\n",
       "      <td>12.625795</td>\n",
       "      <td>18.412174</td>\n",
       "    </tr>\n",
       "    <tr>\n",
       "      <th>5</th>\n",
       "      <td>25516</td>\n",
       "      <td>13160.213272</td>\n",
       "      <td>4.941236</td>\n",
       "      <td>12.332064</td>\n",
       "      <td>18.046739</td>\n",
       "    </tr>\n",
       "    <tr>\n",
       "      <th>6</th>\n",
       "      <td>23139</td>\n",
       "      <td>12688.032454</td>\n",
       "      <td>4.812860</td>\n",
       "      <td>12.175093</td>\n",
       "      <td>17.538099</td>\n",
       "    </tr>\n",
       "    <tr>\n",
       "      <th>7</th>\n",
       "      <td>23905</td>\n",
       "      <td>11896.841582</td>\n",
       "      <td>3.731350</td>\n",
       "      <td>12.627638</td>\n",
       "      <td>17.347945</td>\n",
       "    </tr>\n",
       "    <tr>\n",
       "      <th>8</th>\n",
       "      <td>24003</td>\n",
       "      <td>11064.122497</td>\n",
       "      <td>1.785195</td>\n",
       "      <td>12.315178</td>\n",
       "      <td>17.535189</td>\n",
       "    </tr>\n",
       "    <tr>\n",
       "      <th>9</th>\n",
       "      <td>21943</td>\n",
       "      <td>11392.131920</td>\n",
       "      <td>2.479827</td>\n",
       "      <td>12.075129</td>\n",
       "      <td>18.848681</td>\n",
       "    </tr>\n",
       "    <tr>\n",
       "      <th>10</th>\n",
       "      <td>15804</td>\n",
       "      <td>9784.876325</td>\n",
       "      <td>3.019966</td>\n",
       "      <td>13.090865</td>\n",
       "      <td>19.538691</td>\n",
       "    </tr>\n",
       "    <tr>\n",
       "      <th>11</th>\n",
       "      <td>17363</td>\n",
       "      <td>10519.458186</td>\n",
       "      <td>3.660750</td>\n",
       "      <td>12.821596</td>\n",
       "      <td>19.390130</td>\n",
       "    </tr>\n",
       "    <tr>\n",
       "      <th>12</th>\n",
       "      <td>20162</td>\n",
       "      <td>10990.600707</td>\n",
       "      <td>3.530504</td>\n",
       "      <td>13.042609</td>\n",
       "      <td>21.748378</td>\n",
       "    </tr>\n",
       "  </tbody>\n",
       "</table>\n",
       "</div>"
      ],
      "text/plain": [
       "    Total Collisions  Yearly Average of Daily Volume  \\\n",
       "1              23442                    12193.134872   \n",
       "2              23243                    11896.012759   \n",
       "3              24805                    11975.502906   \n",
       "4              24627                    12330.219780   \n",
       "5              25516                    13160.213272   \n",
       "6              23139                    12688.032454   \n",
       "7              23905                    11896.841582   \n",
       "8              24003                    11064.122497   \n",
       "9              21943                    11392.131920   \n",
       "10             15804                     9784.876325   \n",
       "11             17363                    10519.458186   \n",
       "12             20162                    10990.600707   \n",
       "\n",
       "    Average temperature (degrees C)  Average wind Speed (km/h)  \\\n",
       "1                          3.445416                  13.142069   \n",
       "2                          4.414667                  12.638326   \n",
       "3                          2.410434                  12.647422   \n",
       "4                          2.810970                  12.625795   \n",
       "5                          4.941236                  12.332064   \n",
       "6                          4.812860                  12.175093   \n",
       "7                          3.731350                  12.627638   \n",
       "8                          1.785195                  12.315178   \n",
       "9                          2.479827                  12.075129   \n",
       "10                         3.019966                  13.090865   \n",
       "11                         3.660750                  12.821596   \n",
       "12                         3.530504                  13.042609   \n",
       "\n",
       "    Average visibility (km)  \n",
       "1                 16.600753  \n",
       "2                 16.167048  \n",
       "3                 18.062787  \n",
       "4                 18.412174  \n",
       "5                 18.046739  \n",
       "6                 17.538099  \n",
       "7                 17.347945  \n",
       "8                 17.535189  \n",
       "9                 18.848681  \n",
       "10                19.538691  \n",
       "11                19.390130  \n",
       "12                21.748378  "
      ]
     },
     "execution_count": 117,
     "metadata": {},
     "output_type": "execute_result"
    }
   ],
   "source": [
    "# Loading relevant columns\n",
    "y_col   = \"Total Collisions\"\n",
    "vol_col = \"Yearly Average of Daily Volume\"\n",
    "w_cols  = [\"Average temperature (degrees C)\",\n",
    "           \"Average wind Speed (km/h)\",\n",
    "           \"Average visibility (km)\"]\n",
    "\n",
    "df = data[[y_col, vol_col] + w_cols].dropna().copy()\n",
    "y = df[y_col].to_numpy(float)\n",
    "df"
   ]
  },
  {
   "cell_type": "code",
   "execution_count": 118,
   "id": "232c47fb",
   "metadata": {},
   "outputs": [],
   "source": [
    "# Helper functions:\n",
    "\n",
    "def add_intercept(X): return np.c_[np.ones(len(X)), X]\n",
    "\n",
    "def ols_rss(X, y):\n",
    "    beta, *_ = np.linalg.lstsq(X, y, rcond=None)\n",
    "    resid = y - X @ beta\n",
    "    RSS = float(resid.T @ resid)\n",
    "    dof = len(y) - X.shape[1]\n",
    "    return RSS, dof"
   ]
  },
  {
   "cell_type": "code",
   "execution_count": 119,
   "id": "3176a19b",
   "metadata": {},
   "outputs": [],
   "source": [
    "# Restricted model (traffic volume only)\n",
    "Xr = add_intercept(df[[vol_col]].to_numpy(float))\n",
    "RSS_r, dof_r = ols_rss(Xr, y)"
   ]
  },
  {
   "cell_type": "code",
   "execution_count": 120,
   "id": "648afb22",
   "metadata": {},
   "outputs": [],
   "source": [
    "# Full model (traffic Volume + Weather)\n",
    "Xf = add_intercept(df[[vol_col] + w_cols].to_numpy(float))\n",
    "RSS_f, dof_f = ols_rss(Xf, y)"
   ]
  },
  {
   "cell_type": "code",
   "execution_count": 121,
   "id": "386e83e0",
   "metadata": {},
   "outputs": [
    {
     "name": "stdout",
     "output_type": "stream",
     "text": [
      "Weather block partial F-test: F(3, 7) = 5.115, p = 0.03481\n"
     ]
    }
   ],
   "source": [
    "# Partial F Test\n",
    "q = Xf.shape[1] - Xr.shape[1]\n",
    "F_stat = ((RSS_r - RSS_f)/q) / (RSS_f/dof_f)\n",
    "p_val  = stats.f.sf(F_stat, q, dof_f)\n",
    "\n",
    "print(f\"Weather block partial F-test: F({q}, {dof_f}) = {F_stat:.3f}, p = {p_val:.4g}\")"
   ]
  },
  {
   "cell_type": "markdown",
   "id": "346df826",
   "metadata": {},
   "source": [
    "> Conclusion: Since p < 0.05, we reject H_0. We now know that weather adds significant predictive value beyond traffic volume."
   ]
  },
  {
   "cell_type": "markdown",
   "id": "66bb6c02",
   "metadata": {},
   "source": [
    "### Did the mean collision risk (Total Collisions ÷ Yearly Average of Daily Volume) differ between 2010–2019 (pre-pandemic) and 2020–2023 (post-pandemic)?"
   ]
  },
  {
   "cell_type": "markdown",
   "id": "c0148427",
   "metadata": {},
   "source": [
    "* H_0: mean pre-covid = mean post-covid\n",
    "* H_α: mean pre-covid ≠ mean post-covid"
   ]
  },
  {
   "cell_type": "code",
   "execution_count": 122,
   "id": "ac0ec2aa",
   "metadata": {},
   "outputs": [
    {
     "data": {
      "text/plain": [
       "0          NaN\n",
       "1     1.922557\n",
       "2     1.953848\n",
       "3     2.071312\n",
       "4     1.997288\n",
       "5     1.938874\n",
       "6     1.823687\n",
       "7     2.009357\n",
       "8     2.169445\n",
       "9     1.926154\n",
       "10    1.615146\n",
       "11    1.650560\n",
       "12    1.834477\n",
       "13         NaN\n",
       "Name: risk, dtype: float64"
      ]
     },
     "execution_count": 122,
     "metadata": {},
     "output_type": "execute_result"
    }
   ],
   "source": [
    "# Data:\n",
    "df = data.copy()\n",
    "df[\"risk\"] = data[\"Total Collisions\"] / data[\"Yearly Average of Daily Volume\"]\n",
    "df[\"risk\"]"
   ]
  },
  {
   "cell_type": "code",
   "execution_count": 123,
   "id": "c70325f0",
   "metadata": {},
   "outputs": [],
   "source": [
    "# Split time periods:\n",
    "pre = df.loc[(df[\"Year\"] >= 2010) & (df[\"Year\"] <= 2019), \"risk\"].dropna()\n",
    "post = df.loc[(df[\"Year\"] >= 2020) & (df[\"Year\"] <= 2023), \"risk\"].dropna()"
   ]
  },
  {
   "cell_type": "code",
   "execution_count": 124,
   "id": "5b413ba8",
   "metadata": {},
   "outputs": [
    {
     "name": "stdout",
     "output_type": "stream",
     "text": [
      "P-Value from Shapiro Wilk Test - Pre Covid Era: 0.761\n",
      "P-Value from Shapiro Wilk Test - Post Covid Era: 0.288 \n"
     ]
    }
   ],
   "source": [
    "# Normality check (Shapiro–Wilk) for guidance\n",
    "def shapiro_p(x):\n",
    "    return np.nan if len(x) < 3 else stats.shapiro(x).pvalue\n",
    "\n",
    "p_pre, p_post = shapiro_p(pre), shapiro_p(post)\n",
    "\n",
    "print(f\"P-Value from Shapiro Wilk Test - Pre Covid Era: {p_pre:.3f}\")\n",
    "print(f\"P-Value from Shapiro Wilk Test - Post Covid Era: {p_post:.3f} \")"
   ]
  },
  {
   "cell_type": "code",
   "execution_count": 125,
   "id": "3b04d620",
   "metadata": {},
   "outputs": [
    {
     "name": "stdout",
     "output_type": "stream",
     "text": [
      "P-Value from Welch's T-test: 0.034\n",
      "Pre (2010–2019): n=9, mean risk=1.979169\n",
      "Post (2020–2023): n=3, mean risk=1.700061\n",
      "\n"
     ]
    }
   ],
   "source": [
    "# Welch two-sample t-test (unequal variances)\n",
    "welch = stats.ttest_ind(pre, post, equal_var=False)\n",
    "\n",
    "print(f\"P-Value from Welch's T-test: {welch.pvalue:.3f}\")\n",
    "print(f\"Pre (2010–2019): n={len(pre)}, mean risk={pre.mean():.6f}\")\n",
    "print(f\"Post (2020–2023): n={len(post)}, mean risk={post.mean():.6f}\\n\")"
   ]
  },
  {
   "cell_type": "markdown",
   "id": "774928dd",
   "metadata": {},
   "source": [
    "> Conclusion: Since the P-value for two-sample t-test is 0.034, which is less than 0.05 - we reject the null hypothesis. This means that mean collision risk changed between periods - it was lower post-2020 than pre-2020."
   ]
  },
  {
   "cell_type": "markdown",
   "id": "2097ec8d",
   "metadata": {},
   "source": [
    "### Do the yearly fatality proportions (fatalities ÷ [fatalities + injuries]) differ between intersection and mid-block collisions?"
   ]
  },
  {
   "cell_type": "markdown",
   "id": "57c65333",
   "metadata": {},
   "source": [
    "* H0: mean(p_int − p_mid) = 0\n",
    "* H1: mean(p_int − p_mid) ≠ 0"
   ]
  },
  {
   "cell_type": "code",
   "execution_count": null,
   "id": "a1bb808f",
   "metadata": {},
   "outputs": [],
   "source": [
    "# Columns aliases\n",
    "\n",
    "f_int, i_int = \"FATALITIES: INTERSECTION\", \"INJURIES: INTERSECTION\"\n",
    "f_mid, i_mid = \"FATALITIES: MIDBLOCK\",     \"INJURIES: MIDBLOCK\""
   ]
  },
  {
   "cell_type": "code",
   "execution_count": 132,
   "id": "42f745e9",
   "metadata": {},
   "outputs": [
    {
     "data": {
      "text/plain": [
       "array([-0.00669061, -0.00314374, -0.01634104, -0.00665686, -0.0085276 ,\n",
       "       -0.0069702 , -0.00806656, -0.0101657 , -0.00934238, -0.00529986,\n",
       "       -0.01994751, -0.01474539, -0.00605956, -0.00225088])"
      ]
     },
     "execution_count": 132,
     "metadata": {},
     "output_type": "execute_result"
    }
   ],
   "source": [
    "# Yearly severity proportions\n",
    "\n",
    "df = data.copy()\n",
    "den_int = df[f_int] + df[i_int]\n",
    "den_mid = df[f_mid] + df[i_mid]\n",
    "mask = den_int.gt(0) & den_mid.gt(0)\n",
    "\n",
    "p_int = (df.loc[mask, f_int] / den_int[mask]).rename(\"p_int\") #proportions\n",
    "p_mid = (df.loc[mask, f_mid] / den_mid[mask]).rename(\"p_mid\")\n",
    "years = df.loc[mask, \"Year\"].astype(int).to_numpy()\n",
    "diffs = (p_int - p_mid).to_numpy()\n",
    "\n",
    "diffs"
   ]
  },
  {
   "cell_type": "code",
   "execution_count": 137,
   "id": "e88f897c",
   "metadata": {},
   "outputs": [
    {
     "name": "stdout",
     "output_type": "stream",
     "text": [
      "Number of years = 14\n",
      "Mean p_int = 0.0036, Mean p_mid = 0.0125\n",
      "Shapiro-Wilk p-value (diffs): 0.1557\n"
     ]
    }
   ],
   "source": [
    "# Normality of paired differences\n",
    "shapiro_stat, shapiro_p = stats.shapiro(diffs)\n",
    "print(f\"Number of years = {len(diffs)}\")\n",
    "print(f\"Mean p_int = {p_int.mean():.4f}, Mean p_mid = {p_mid.mean():.4f}\")\n",
    "print(f\"Shapiro-Wilk p-value (diffs): {shapiro_p:.4f}\")"
   ]
  },
  {
   "cell_type": "markdown",
   "id": "13971de9",
   "metadata": {},
   "source": [
    "> Shapiro Wilk test's p-value = 0.1557, which is greater than 0.05. We fail to reject normality of paired differences. Therefore, we can conclude that the data is consistent with normality - we can use Paired-T test."
   ]
  },
  {
   "cell_type": "code",
   "execution_count": 138,
   "id": "39538bf0",
   "metadata": {},
   "outputs": [
    {
     "name": "stdout",
     "output_type": "stream",
     "text": [
      "\n",
      "Paired t-test (two-sided)\n",
      "t = -6.627, p = 0.0000\n",
      "Mean diff (p_int - p_mid) = -0.0089\n",
      "95% CI for mean diff = [-0.0118, -0.0060]\n"
     ]
    }
   ],
   "source": [
    "t_stat, t_p = stats.ttest_rel(p_int, p_mid)\n",
    "n = len(diffs)\n",
    "md = diffs.mean()\n",
    "sd = diffs.std(ddof=1)\n",
    "ci_halfwidth = stats.t.ppf(0.975, df=n-1) * sd / np.sqrt(n)\n",
    "print(\"\\nPaired t-test (two-sided)\")\n",
    "print(f\"t = {t_stat:.3f}, p = {t_p:.4f}\")\n",
    "print(f\"Mean diff (p_int - p_mid) = {md:.4f}\")\n",
    "print(f\"95% CI for mean diff = [{md-ci_halfwidth:.4f}, {md+ci_halfwidth:.4f}]\")"
   ]
  },
  {
   "cell_type": "markdown",
   "id": "7b920b4b",
   "metadata": {},
   "source": [
    "> Conclusion: p-value < 0.001 - there is strong evidence against the null hypothesis. Therefore we reject the null hypothesis, and state that there is statistically significant difference inseverity mix by location."
   ]
  }
 ],
 "metadata": {
  "kernelspec": {
   "display_name": "Python 3",
   "language": "python",
   "name": "python3"
  },
  "language_info": {
   "codemirror_mode": {
    "name": "ipython",
    "version": 3
   },
   "file_extension": ".py",
   "mimetype": "text/x-python",
   "name": "python",
   "nbconvert_exporter": "python",
   "pygments_lexer": "ipython3",
   "version": "3.9.6"
  }
 },
 "nbformat": 4,
 "nbformat_minor": 5
}
